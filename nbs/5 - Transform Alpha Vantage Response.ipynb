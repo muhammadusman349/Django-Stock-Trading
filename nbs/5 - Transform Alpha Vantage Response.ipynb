{
 "cells": [
  {
   "cell_type": "code",
   "execution_count": 1,
   "id": "df3dfb52-7495-4282-b77f-18ced279a699",
   "metadata": {},
   "outputs": [],
   "source": [
    "from decouple import config"
   ]
  },
  {
   "cell_type": "code",
   "execution_count": 2,
   "id": "c3f5d086-cf5f-46be-9991-96195d8a3789",
   "metadata": {},
   "outputs": [],
   "source": [
    "assert config(\"ALPHA_VANTAGE_API_KEY\", default=None, cast=str) is not None"
   ]
  },
  {
   "cell_type": "code",
   "execution_count": 3,
   "id": "03f9ee75-d27a-4380-8cfa-23db34a4dd7d",
   "metadata": {},
   "outputs": [],
   "source": [
    "ALPHA_VANTAGE_API_KEY = config(\"ALPHA_VANTAGE_API_KEY\", default=None, cast=str)"
   ]
  },
  {
   "cell_type": "code",
   "execution_count": 4,
   "id": "d776dc94-1b63-49b3-9301-29708acfa268",
   "metadata": {},
   "outputs": [],
   "source": [
    "import requests"
   ]
  },
  {
   "cell_type": "code",
   "execution_count": 5,
   "id": "304c9a05-5e1b-4a22-80fc-9b7ab4d134e8",
   "metadata": {},
   "outputs": [],
   "source": [
    "api_key = ALPHA_VANTAGE_API_KEY\n",
    "\n",
    "params = {\n",
    "    \"api_key\": ALPHA_VANTAGE_API_KEY,\n",
    "    \"ticker\": \"AAPL\",\n",
    "    \"function\": \"TIME_SERIES_INTRADAY\"\n",
    "}\n",
    "\n",
    "url = 'https://www.alphavantage.co/query?function={function}&symbol={ticker}&interval=5min&apikey={api_key}'.format(\n",
    "    **params\n",
    ")\n",
    "r = requests.get(url)\n",
    "data = r.json()"
   ]
  },
  {
   "cell_type": "code",
   "execution_count": 7,
   "id": "54ab5c40-4568-4b76-a6c0-8a29c4919a44",
   "metadata": {},
   "outputs": [
    {
     "data": {
      "text/plain": [
       "'Time Series (5min)'"
      ]
     },
     "execution_count": 7,
     "metadata": {},
     "output_type": "execute_result"
    }
   ],
   "source": [
    "dataset_key = [x for x in list(data.keys()) if not x.lower() == \"meta data\"][0]\n",
    "dataset_key"
   ]
  },
  {
   "cell_type": "code",
   "execution_count": 8,
   "id": "9aa15191-2ccf-45c2-b9ac-3a2c293ca161",
   "metadata": {},
   "outputs": [],
   "source": [
    "results = data[dataset_key] # dict\n",
    "# for timestamp_str in results.keys():\n",
    "#     print(timestamp_str, results.get(timestamp_str))"
   ]
  },
  {
   "cell_type": "code",
   "execution_count": 9,
   "id": "02ad6a33-4278-4620-ae8e-f7eee2f20cdd",
   "metadata": {},
   "outputs": [
    {
     "data": {
      "text/plain": [
       "'2024-12-10 19:55:00'"
      ]
     },
     "execution_count": 9,
     "metadata": {},
     "output_type": "execute_result"
    }
   ],
   "source": [
    "timestamp_str = list(results.keys())[0]\n",
    "timestamp_str"
   ]
  },
  {
   "cell_type": "code",
   "execution_count": 10,
   "id": "a31fa7f0-87f8-4b47-ba37-f9b6cb0e42c4",
   "metadata": {},
   "outputs": [
    {
     "data": {
      "text/plain": [
       "{'1. open': '247.6500',\n",
       " '2. high': '247.7400',\n",
       " '3. low': '247.6100',\n",
       " '4. close': '247.6900',\n",
       " '5. volume': '750'}"
      ]
     },
     "execution_count": 10,
     "metadata": {},
     "output_type": "execute_result"
    }
   ],
   "source": [
    "result_val = results.get(timestamp_str)\n",
    "result_val"
   ]
  },
  {
   "cell_type": "code",
   "execution_count": 11,
   "id": "5716e898-9b9b-47f8-b989-20facc7556e3",
   "metadata": {},
   "outputs": [],
   "source": [
    "import pytz\n",
    "from datetime import datetime\n",
    "from decimal import Decimal\n",
    "\n",
    "def transform_alpha_vantage_result(timestamp_str, result):\n",
    "    # unix_timestamp = result.get('t') / 1000.0\n",
    "    # utc_timestamp = datetime.fromtimestamp(unix_timestamp, tz=pytz.timezone('UTC'))\n",
    "    timestamp_format = '%Y-%m-%d %H:%M:%S' \n",
    "    eastern = pytz.timezone(\"US/Eastern\")\n",
    "    utc = pytz.utc\n",
    "    timestamp = eastern.localize(datetime.strptime(timestamp_str,timestamp_format)).astimezone(utc)\n",
    "    return {\n",
    "        'open_price': Decimal(result['1. open']),\n",
    "        'close_price': Decimal(result['4. close']),\n",
    "        'high_price': Decimal(result['2. high']),\n",
    "        'low_price': Decimal(result['3. low']),\n",
    "        'number_of_trades': None,\n",
    "        'volume': int(result['5. volume']),\n",
    "        'volume_weighted_average': None,\n",
    "        'time': timestamp,\n",
    "    }"
   ]
  },
  {
   "cell_type": "code",
   "execution_count": 12,
   "id": "ab6872b7-48f9-47fa-9d9b-aea3fb27dd1d",
   "metadata": {},
   "outputs": [
    {
     "data": {
      "text/plain": [
       "{'open_price': Decimal('247.6500'),\n",
       " 'close_price': Decimal('247.6900'),\n",
       " 'high_price': Decimal('247.7400'),\n",
       " 'low_price': Decimal('247.6100'),\n",
       " 'number_of_trades': None,\n",
       " 'volume': 750,\n",
       " 'volume_weighted_average': None,\n",
       " 'time': datetime.datetime(2024, 12, 11, 0, 55, tzinfo=<UTC>)}"
      ]
     },
     "execution_count": 12,
     "metadata": {},
     "output_type": "execute_result"
    }
   ],
   "source": [
    "transform_alpha_vantage_result(timestamp_str, result_val)"
   ]
  },
  {
   "cell_type": "code",
   "execution_count": 13,
   "id": "ab11e5a4-a23e-44da-9805-0a3cff8c0eab",
   "metadata": {},
   "outputs": [
    {
     "name": "stdout",
     "output_type": "stream",
     "text": [
      "{'open_price': Decimal('247.6500'), 'close_price': Decimal('247.6900'), 'high_price': Decimal('247.7400'), 'low_price': Decimal('247.6100'), 'number_of_trades': None, 'volume': 750, 'volume_weighted_average': None, 'time': datetime.datetime(2024, 12, 11, 0, 55, tzinfo=<UTC>)}\n",
      "{'open_price': Decimal('247.6600'), 'close_price': Decimal('247.6900'), 'high_price': Decimal('247.7400'), 'low_price': Decimal('247.6100'), 'number_of_trades': None, 'volume': 1364, 'volume_weighted_average': None, 'time': datetime.datetime(2024, 12, 11, 0, 50, tzinfo=<UTC>)}\n",
      "{'open_price': Decimal('247.6200'), 'close_price': Decimal('247.6750'), 'high_price': Decimal('247.7300'), 'low_price': Decimal('247.5500'), 'number_of_trades': None, 'volume': 340, 'volume_weighted_average': None, 'time': datetime.datetime(2024, 12, 11, 0, 45, tzinfo=<UTC>)}\n",
      "{'open_price': Decimal('247.5500'), 'close_price': Decimal('247.6200'), 'high_price': Decimal('247.7200'), 'low_price': Decimal('247.5500'), 'number_of_trades': None, 'volume': 5042, 'volume_weighted_average': None, 'time': datetime.datetime(2024, 12, 11, 0, 40, tzinfo=<UTC>)}\n",
      "{'open_price': Decimal('247.5100'), 'close_price': Decimal('247.6500'), 'high_price': Decimal('247.7400'), 'low_price': Decimal('247.5100'), 'number_of_trades': None, 'volume': 2960, 'volume_weighted_average': None, 'time': datetime.datetime(2024, 12, 11, 0, 35, tzinfo=<UTC>)}\n",
      "{'open_price': Decimal('247.7400'), 'close_price': Decimal('247.6200'), 'high_price': Decimal('247.7400'), 'low_price': Decimal('247.6200'), 'number_of_trades': None, 'volume': 1978, 'volume_weighted_average': None, 'time': datetime.datetime(2024, 12, 11, 0, 30, tzinfo=<UTC>)}\n",
      "{'open_price': Decimal('247.6800'), 'close_price': Decimal('247.6300'), 'high_price': Decimal('247.7400'), 'low_price': Decimal('247.6200'), 'number_of_trades': None, 'volume': 223, 'volume_weighted_average': None, 'time': datetime.datetime(2024, 12, 11, 0, 25, tzinfo=<UTC>)}\n",
      "{'open_price': Decimal('247.6800'), 'close_price': Decimal('247.6800'), 'high_price': Decimal('247.7400'), 'low_price': Decimal('247.6100'), 'number_of_trades': None, 'volume': 355, 'volume_weighted_average': None, 'time': datetime.datetime(2024, 12, 11, 0, 20, tzinfo=<UTC>)}\n",
      "{'open_price': Decimal('247.6600'), 'close_price': Decimal('247.6750'), 'high_price': Decimal('247.7000'), 'low_price': Decimal('247.6100'), 'number_of_trades': None, 'volume': 510, 'volume_weighted_average': None, 'time': datetime.datetime(2024, 12, 11, 0, 15, tzinfo=<UTC>)}\n",
      "{'open_price': Decimal('247.7050'), 'close_price': Decimal('247.6600'), 'high_price': Decimal('247.7700'), 'low_price': Decimal('247.6100'), 'number_of_trades': None, 'volume': 3151, 'volume_weighted_average': None, 'time': datetime.datetime(2024, 12, 11, 0, 10, tzinfo=<UTC>)}\n",
      "{'open_price': Decimal('247.7300'), 'close_price': Decimal('247.7050'), 'high_price': Decimal('247.7700'), 'low_price': Decimal('247.6400'), 'number_of_trades': None, 'volume': 592, 'volume_weighted_average': None, 'time': datetime.datetime(2024, 12, 11, 0, 5, tzinfo=<UTC>)}\n",
      "{'open_price': Decimal('247.7150'), 'close_price': Decimal('247.7300'), 'high_price': Decimal('247.7800'), 'low_price': Decimal('247.6600'), 'number_of_trades': None, 'volume': 367, 'volume_weighted_average': None, 'time': datetime.datetime(2024, 12, 11, 0, 0, tzinfo=<UTC>)}\n",
      "{'open_price': Decimal('247.7250'), 'close_price': Decimal('247.7500'), 'high_price': Decimal('247.8000'), 'low_price': Decimal('247.6100'), 'number_of_trades': None, 'volume': 2581, 'volume_weighted_average': None, 'time': datetime.datetime(2024, 12, 10, 23, 55, tzinfo=<UTC>)}\n",
      "{'open_price': Decimal('247.7800'), 'close_price': Decimal('247.7250'), 'high_price': Decimal('247.8500'), 'low_price': Decimal('247.6600'), 'number_of_trades': None, 'volume': 500, 'volume_weighted_average': None, 'time': datetime.datetime(2024, 12, 10, 23, 50, tzinfo=<UTC>)}\n",
      "{'open_price': Decimal('247.6600'), 'close_price': Decimal('247.7250'), 'high_price': Decimal('247.8200'), 'low_price': Decimal('247.6100'), 'number_of_trades': None, 'volume': 432, 'volume_weighted_average': None, 'time': datetime.datetime(2024, 12, 10, 23, 45, tzinfo=<UTC>)}\n",
      "{'open_price': Decimal('247.6600'), 'close_price': Decimal('247.8000'), 'high_price': Decimal('247.8000'), 'low_price': Decimal('247.6100'), 'number_of_trades': None, 'volume': 3811, 'volume_weighted_average': None, 'time': datetime.datetime(2024, 12, 10, 23, 40, tzinfo=<UTC>)}\n",
      "{'open_price': Decimal('247.6800'), 'close_price': Decimal('247.6600'), 'high_price': Decimal('247.7000'), 'low_price': Decimal('247.6100'), 'number_of_trades': None, 'volume': 1934, 'volume_weighted_average': None, 'time': datetime.datetime(2024, 12, 10, 23, 35, tzinfo=<UTC>)}\n",
      "{'open_price': Decimal('247.7200'), 'close_price': Decimal('247.6500'), 'high_price': Decimal('247.7700'), 'low_price': Decimal('247.6100'), 'number_of_trades': None, 'volume': 1382, 'volume_weighted_average': None, 'time': datetime.datetime(2024, 12, 10, 23, 30, tzinfo=<UTC>)}\n",
      "{'open_price': Decimal('247.7700'), 'close_price': Decimal('247.7200'), 'high_price': Decimal('247.8300'), 'low_price': Decimal('247.6700'), 'number_of_trades': None, 'volume': 2495, 'volume_weighted_average': None, 'time': datetime.datetime(2024, 12, 10, 23, 25, tzinfo=<UTC>)}\n",
      "{'open_price': Decimal('247.8350'), 'close_price': Decimal('247.7950'), 'high_price': Decimal('247.8900'), 'low_price': Decimal('247.7300'), 'number_of_trades': None, 'volume': 4376, 'volume_weighted_average': None, 'time': datetime.datetime(2024, 12, 10, 23, 20, tzinfo=<UTC>)}\n",
      "{'open_price': Decimal('247.8700'), 'close_price': Decimal('247.8300'), 'high_price': Decimal('247.9000'), 'low_price': Decimal('247.7600'), 'number_of_trades': None, 'volume': 2930, 'volume_weighted_average': None, 'time': datetime.datetime(2024, 12, 10, 23, 15, tzinfo=<UTC>)}\n",
      "{'open_price': Decimal('247.7701'), 'close_price': Decimal('247.8900'), 'high_price': Decimal('247.8900'), 'low_price': Decimal('247.7100'), 'number_of_trades': None, 'volume': 2169, 'volume_weighted_average': None, 'time': datetime.datetime(2024, 12, 10, 23, 10, tzinfo=<UTC>)}\n",
      "{'open_price': Decimal('247.8100'), 'close_price': Decimal('247.7850'), 'high_price': Decimal('247.8500'), 'low_price': Decimal('247.7600'), 'number_of_trades': None, 'volume': 422, 'volume_weighted_average': None, 'time': datetime.datetime(2024, 12, 10, 23, 5, tzinfo=<UTC>)}\n",
      "{'open_price': Decimal('247.8000'), 'close_price': Decimal('247.8050'), 'high_price': Decimal('247.8500'), 'low_price': Decimal('247.7600'), 'number_of_trades': None, 'volume': 2010, 'volume_weighted_average': None, 'time': datetime.datetime(2024, 12, 10, 23, 0, tzinfo=<UTC>)}\n",
      "{'open_price': Decimal('247.8200'), 'close_price': Decimal('247.8200'), 'high_price': Decimal('247.8200'), 'low_price': Decimal('247.7900'), 'number_of_trades': None, 'volume': 1263, 'volume_weighted_average': None, 'time': datetime.datetime(2024, 12, 10, 22, 55, tzinfo=<UTC>)}\n",
      "{'open_price': Decimal('247.8100'), 'close_price': Decimal('247.8200'), 'high_price': Decimal('247.8200'), 'low_price': Decimal('247.8000'), 'number_of_trades': None, 'volume': 338, 'volume_weighted_average': None, 'time': datetime.datetime(2024, 12, 10, 22, 50, tzinfo=<UTC>)}\n",
      "{'open_price': Decimal('247.8200'), 'close_price': Decimal('247.8100'), 'high_price': Decimal('247.8200'), 'low_price': Decimal('247.8000'), 'number_of_trades': None, 'volume': 411, 'volume_weighted_average': None, 'time': datetime.datetime(2024, 12, 10, 22, 45, tzinfo=<UTC>)}\n",
      "{'open_price': Decimal('247.8100'), 'close_price': Decimal('247.8200'), 'high_price': Decimal('247.8700'), 'low_price': Decimal('247.8100'), 'number_of_trades': None, 'volume': 1325, 'volume_weighted_average': None, 'time': datetime.datetime(2024, 12, 10, 22, 40, tzinfo=<UTC>)}\n",
      "{'open_price': Decimal('247.8350'), 'close_price': Decimal('247.8400'), 'high_price': Decimal('247.8700'), 'low_price': Decimal('247.7900'), 'number_of_trades': None, 'volume': 817, 'volume_weighted_average': None, 'time': datetime.datetime(2024, 12, 10, 22, 35, tzinfo=<UTC>)}\n",
      "{'open_price': Decimal('247.8700'), 'close_price': Decimal('247.8350'), 'high_price': Decimal('247.8700'), 'low_price': Decimal('247.7600'), 'number_of_trades': None, 'volume': 3250, 'volume_weighted_average': None, 'time': datetime.datetime(2024, 12, 10, 22, 30, tzinfo=<UTC>)}\n",
      "{'open_price': Decimal('247.8700'), 'close_price': Decimal('247.8700'), 'high_price': Decimal('247.8700'), 'low_price': Decimal('247.8300'), 'number_of_trades': None, 'volume': 1317, 'volume_weighted_average': None, 'time': datetime.datetime(2024, 12, 10, 22, 25, tzinfo=<UTC>)}\n",
      "{'open_price': Decimal('247.8600'), 'close_price': Decimal('247.8650'), 'high_price': Decimal('247.8902'), 'low_price': Decimal('247.8600'), 'number_of_trades': None, 'volume': 1835, 'volume_weighted_average': None, 'time': datetime.datetime(2024, 12, 10, 22, 20, tzinfo=<UTC>)}\n",
      "{'open_price': Decimal('247.8500'), 'close_price': Decimal('247.8900'), 'high_price': Decimal('247.8900'), 'low_price': Decimal('247.8200'), 'number_of_trades': None, 'volume': 1715, 'volume_weighted_average': None, 'time': datetime.datetime(2024, 12, 10, 22, 15, tzinfo=<UTC>)}\n",
      "{'open_price': Decimal('247.8500'), 'close_price': Decimal('247.8200'), 'high_price': Decimal('247.8500'), 'low_price': Decimal('247.7700'), 'number_of_trades': None, 'volume': 48425, 'volume_weighted_average': None, 'time': datetime.datetime(2024, 12, 10, 22, 10, tzinfo=<UTC>)}\n",
      "{'open_price': Decimal('247.8000'), 'close_price': Decimal('247.8491'), 'high_price': Decimal('247.8500'), 'low_price': Decimal('247.7600'), 'number_of_trades': None, 'volume': 677, 'volume_weighted_average': None, 'time': datetime.datetime(2024, 12, 10, 22, 5, tzinfo=<UTC>)}\n",
      "{'open_price': Decimal('247.8700'), 'close_price': Decimal('247.7600'), 'high_price': Decimal('247.9000'), 'low_price': Decimal('247.7600'), 'number_of_trades': None, 'volume': 5010, 'volume_weighted_average': None, 'time': datetime.datetime(2024, 12, 10, 22, 0, tzinfo=<UTC>)}\n",
      "{'open_price': Decimal('247.8800'), 'close_price': Decimal('247.8700'), 'high_price': Decimal('247.9000'), 'low_price': Decimal('247.8700'), 'number_of_trades': None, 'volume': 8389, 'volume_weighted_average': None, 'time': datetime.datetime(2024, 12, 10, 21, 55, tzinfo=<UTC>)}\n",
      "{'open_price': Decimal('247.9250'), 'close_price': Decimal('247.8850'), 'high_price': Decimal('258.6086'), 'low_price': Decimal('243.0662'), 'number_of_trades': None, 'volume': 4471, 'volume_weighted_average': None, 'time': datetime.datetime(2024, 12, 10, 21, 50, tzinfo=<UTC>)}\n",
      "{'open_price': Decimal('247.9050'), 'close_price': Decimal('247.9250'), 'high_price': Decimal('258.6086'), 'low_price': Decimal('247.8900'), 'number_of_trades': None, 'volume': 3654, 'volume_weighted_average': None, 'time': datetime.datetime(2024, 12, 10, 21, 45, tzinfo=<UTC>)}\n",
      "{'open_price': Decimal('247.8150'), 'close_price': Decimal('247.9100'), 'high_price': Decimal('247.9500'), 'low_price': Decimal('247.7700'), 'number_of_trades': None, 'volume': 879716, 'volume_weighted_average': None, 'time': datetime.datetime(2024, 12, 10, 21, 40, tzinfo=<UTC>)}\n",
      "{'open_price': Decimal('247.8800'), 'close_price': Decimal('247.8150'), 'high_price': Decimal('247.9800'), 'low_price': Decimal('247.7600'), 'number_of_trades': None, 'volume': 12108, 'volume_weighted_average': None, 'time': datetime.datetime(2024, 12, 10, 21, 35, tzinfo=<UTC>)}\n",
      "{'open_price': Decimal('247.9700'), 'close_price': Decimal('247.9300'), 'high_price': Decimal('248.0000'), 'low_price': Decimal('247.8700'), 'number_of_trades': None, 'volume': 1531, 'volume_weighted_average': None, 'time': datetime.datetime(2024, 12, 10, 21, 30, tzinfo=<UTC>)}\n",
      "{'open_price': Decimal('247.8500'), 'close_price': Decimal('248.0000'), 'high_price': Decimal('248.0000'), 'low_price': Decimal('247.7700'), 'number_of_trades': None, 'volume': 34710, 'volume_weighted_average': None, 'time': datetime.datetime(2024, 12, 10, 21, 25, tzinfo=<UTC>)}\n",
      "{'open_price': Decimal('247.7700'), 'close_price': Decimal('247.8750'), 'high_price': Decimal('247.8900'), 'low_price': Decimal('247.7200'), 'number_of_trades': None, 'volume': 51797, 'volume_weighted_average': None, 'time': datetime.datetime(2024, 12, 10, 21, 20, tzinfo=<UTC>)}\n",
      "{'open_price': Decimal('247.7400'), 'close_price': Decimal('247.7100'), 'high_price': Decimal('247.8000'), 'low_price': Decimal('247.7100'), 'number_of_trades': None, 'volume': 133727, 'volume_weighted_average': None, 'time': datetime.datetime(2024, 12, 10, 21, 15, tzinfo=<UTC>)}\n",
      "{'open_price': Decimal('247.7800'), 'close_price': Decimal('247.7300'), 'high_price': Decimal('247.8000'), 'low_price': Decimal('247.7000'), 'number_of_trades': None, 'volume': 26183, 'volume_weighted_average': None, 'time': datetime.datetime(2024, 12, 10, 21, 10, tzinfo=<UTC>)}\n",
      "{'open_price': Decimal('247.7750'), 'close_price': Decimal('247.7900'), 'high_price': Decimal('247.8000'), 'low_price': Decimal('247.2994'), 'number_of_trades': None, 'volume': 154231, 'volume_weighted_average': None, 'time': datetime.datetime(2024, 12, 10, 21, 5, tzinfo=<UTC>)}\n",
      "{'open_price': Decimal('247.8100'), 'close_price': Decimal('247.7516'), 'high_price': Decimal('247.8200'), 'low_price': Decimal('242.0000'), 'number_of_trades': None, 'volume': 15455926, 'volume_weighted_average': None, 'time': datetime.datetime(2024, 12, 10, 21, 0, tzinfo=<UTC>)}\n",
      "{'open_price': Decimal('247.5100'), 'close_price': Decimal('247.8000'), 'high_price': Decimal('247.8400'), 'low_price': Decimal('247.5050'), 'number_of_trades': None, 'volume': 1325952, 'volume_weighted_average': None, 'time': datetime.datetime(2024, 12, 10, 20, 55, tzinfo=<UTC>)}\n",
      "{'open_price': Decimal('247.6100'), 'close_price': Decimal('247.4950'), 'high_price': Decimal('247.7500'), 'low_price': Decimal('247.3300'), 'number_of_trades': None, 'volume': 666832, 'volume_weighted_average': None, 'time': datetime.datetime(2024, 12, 10, 20, 50, tzinfo=<UTC>)}\n",
      "{'open_price': Decimal('247.8500'), 'close_price': Decimal('247.6200'), 'high_price': Decimal('247.9099'), 'low_price': Decimal('247.6050'), 'number_of_trades': None, 'volume': 571860, 'volume_weighted_average': None, 'time': datetime.datetime(2024, 12, 10, 20, 45, tzinfo=<UTC>)}\n",
      "{'open_price': Decimal('247.8655'), 'close_price': Decimal('247.8500'), 'high_price': Decimal('247.9450'), 'low_price': Decimal('247.7200'), 'number_of_trades': None, 'volume': 277208, 'volume_weighted_average': None, 'time': datetime.datetime(2024, 12, 10, 20, 40, tzinfo=<UTC>)}\n",
      "{'open_price': Decimal('248.0399'), 'close_price': Decimal('247.8600'), 'high_price': Decimal('248.0700'), 'low_price': Decimal('247.6400'), 'number_of_trades': None, 'volume': 319974, 'volume_weighted_average': None, 'time': datetime.datetime(2024, 12, 10, 20, 35, tzinfo=<UTC>)}\n",
      "{'open_price': Decimal('247.7250'), 'close_price': Decimal('248.0400'), 'high_price': Decimal('248.0400'), 'low_price': Decimal('247.6500'), 'number_of_trades': None, 'volume': 445939, 'volume_weighted_average': None, 'time': datetime.datetime(2024, 12, 10, 20, 30, tzinfo=<UTC>)}\n",
      "{'open_price': Decimal('247.6700'), 'close_price': Decimal('247.7200'), 'high_price': Decimal('247.8300'), 'low_price': Decimal('247.6600'), 'number_of_trades': None, 'volume': 263837, 'volume_weighted_average': None, 'time': datetime.datetime(2024, 12, 10, 20, 25, tzinfo=<UTC>)}\n",
      "{'open_price': Decimal('247.6450'), 'close_price': Decimal('247.6800'), 'high_price': Decimal('247.6950'), 'low_price': Decimal('247.5000'), 'number_of_trades': None, 'volume': 231997, 'volume_weighted_average': None, 'time': datetime.datetime(2024, 12, 10, 20, 20, tzinfo=<UTC>)}\n",
      "{'open_price': Decimal('247.7940'), 'close_price': Decimal('247.6438'), 'high_price': Decimal('247.8200'), 'low_price': Decimal('247.5100'), 'number_of_trades': None, 'volume': 371714, 'volume_weighted_average': None, 'time': datetime.datetime(2024, 12, 10, 20, 15, tzinfo=<UTC>)}\n",
      "{'open_price': Decimal('247.8163'), 'close_price': Decimal('247.7900'), 'high_price': Decimal('247.9100'), 'low_price': Decimal('247.6800'), 'number_of_trades': None, 'volume': 342999, 'volume_weighted_average': None, 'time': datetime.datetime(2024, 12, 10, 20, 10, tzinfo=<UTC>)}\n",
      "{'open_price': Decimal('248.1000'), 'close_price': Decimal('247.8160'), 'high_price': Decimal('248.1200'), 'low_price': Decimal('247.5200'), 'number_of_trades': None, 'volume': 548664, 'volume_weighted_average': None, 'time': datetime.datetime(2024, 12, 10, 20, 5, tzinfo=<UTC>)}\n",
      "{'open_price': Decimal('248.0300'), 'close_price': Decimal('248.0950'), 'high_price': Decimal('248.2100'), 'low_price': Decimal('247.9900'), 'number_of_trades': None, 'volume': 513844, 'volume_weighted_average': None, 'time': datetime.datetime(2024, 12, 10, 20, 0, tzinfo=<UTC>)}\n",
      "{'open_price': Decimal('247.8695'), 'close_price': Decimal('248.0300'), 'high_price': Decimal('248.0950'), 'low_price': Decimal('247.8500'), 'number_of_trades': None, 'volume': 591102, 'volume_weighted_average': None, 'time': datetime.datetime(2024, 12, 10, 19, 55, tzinfo=<UTC>)}\n",
      "{'open_price': Decimal('247.7100'), 'close_price': Decimal('247.8700'), 'high_price': Decimal('247.8900'), 'low_price': Decimal('247.6300'), 'number_of_trades': None, 'volume': 362709, 'volume_weighted_average': None, 'time': datetime.datetime(2024, 12, 10, 19, 50, tzinfo=<UTC>)}\n",
      "{'open_price': Decimal('247.6000'), 'close_price': Decimal('247.7000'), 'high_price': Decimal('247.7900'), 'low_price': Decimal('247.5801'), 'number_of_trades': None, 'volume': 227853, 'volume_weighted_average': None, 'time': datetime.datetime(2024, 12, 10, 19, 45, tzinfo=<UTC>)}\n",
      "{'open_price': Decimal('247.4800'), 'close_price': Decimal('247.5950'), 'high_price': Decimal('247.6500'), 'low_price': Decimal('247.4600'), 'number_of_trades': None, 'volume': 243447, 'volume_weighted_average': None, 'time': datetime.datetime(2024, 12, 10, 19, 40, tzinfo=<UTC>)}\n",
      "{'open_price': Decimal('247.5050'), 'close_price': Decimal('247.4900'), 'high_price': Decimal('247.5500'), 'low_price': Decimal('247.4100'), 'number_of_trades': None, 'volume': 243446, 'volume_weighted_average': None, 'time': datetime.datetime(2024, 12, 10, 19, 35, tzinfo=<UTC>)}\n",
      "{'open_price': Decimal('247.4500'), 'close_price': Decimal('247.4900'), 'high_price': Decimal('247.5200'), 'low_price': Decimal('247.4100'), 'number_of_trades': None, 'volume': 197144, 'volume_weighted_average': None, 'time': datetime.datetime(2024, 12, 10, 19, 30, tzinfo=<UTC>)}\n",
      "{'open_price': Decimal('247.4600'), 'close_price': Decimal('247.4400'), 'high_price': Decimal('247.5000'), 'low_price': Decimal('247.4000'), 'number_of_trades': None, 'volume': 161818, 'volume_weighted_average': None, 'time': datetime.datetime(2024, 12, 10, 19, 25, tzinfo=<UTC>)}\n",
      "{'open_price': Decimal('247.4800'), 'close_price': Decimal('247.4500'), 'high_price': Decimal('247.5361'), 'low_price': Decimal('247.3700'), 'number_of_trades': None, 'volume': 171308, 'volume_weighted_average': None, 'time': datetime.datetime(2024, 12, 10, 19, 20, tzinfo=<UTC>)}\n",
      "{'open_price': Decimal('247.7950'), 'close_price': Decimal('247.4700'), 'high_price': Decimal('247.7950'), 'low_price': Decimal('247.4200'), 'number_of_trades': None, 'volume': 283357, 'volume_weighted_average': None, 'time': datetime.datetime(2024, 12, 10, 19, 15, tzinfo=<UTC>)}\n",
      "{'open_price': Decimal('247.7460'), 'close_price': Decimal('247.7977'), 'high_price': Decimal('247.8000'), 'low_price': Decimal('247.6800'), 'number_of_trades': None, 'volume': 240995, 'volume_weighted_average': None, 'time': datetime.datetime(2024, 12, 10, 19, 10, tzinfo=<UTC>)}\n",
      "{'open_price': Decimal('247.6600'), 'close_price': Decimal('247.7500'), 'high_price': Decimal('247.7500'), 'low_price': Decimal('247.6000'), 'number_of_trades': None, 'volume': 147150, 'volume_weighted_average': None, 'time': datetime.datetime(2024, 12, 10, 19, 5, tzinfo=<UTC>)}\n",
      "{'open_price': Decimal('247.6200'), 'close_price': Decimal('247.6600'), 'high_price': Decimal('247.7200'), 'low_price': Decimal('247.5550'), 'number_of_trades': None, 'volume': 208785, 'volume_weighted_average': None, 'time': datetime.datetime(2024, 12, 10, 19, 0, tzinfo=<UTC>)}\n",
      "{'open_price': Decimal('247.7100'), 'close_price': Decimal('247.6117'), 'high_price': Decimal('247.7100'), 'low_price': Decimal('247.5400'), 'number_of_trades': None, 'volume': 171026, 'volume_weighted_average': None, 'time': datetime.datetime(2024, 12, 10, 18, 55, tzinfo=<UTC>)}\n",
      "{'open_price': Decimal('247.7000'), 'close_price': Decimal('247.7100'), 'high_price': Decimal('247.7800'), 'low_price': Decimal('247.6517'), 'number_of_trades': None, 'volume': 203830, 'volume_weighted_average': None, 'time': datetime.datetime(2024, 12, 10, 18, 50, tzinfo=<UTC>)}\n",
      "{'open_price': Decimal('247.6000'), 'close_price': Decimal('247.7100'), 'high_price': Decimal('247.7100'), 'low_price': Decimal('247.5800'), 'number_of_trades': None, 'volume': 148635, 'volume_weighted_average': None, 'time': datetime.datetime(2024, 12, 10, 18, 45, tzinfo=<UTC>)}\n",
      "{'open_price': Decimal('247.5850'), 'close_price': Decimal('247.5900'), 'high_price': Decimal('247.7100'), 'low_price': Decimal('247.5700'), 'number_of_trades': None, 'volume': 206699, 'volume_weighted_average': None, 'time': datetime.datetime(2024, 12, 10, 18, 40, tzinfo=<UTC>)}\n",
      "{'open_price': Decimal('247.4900'), 'close_price': Decimal('247.5800'), 'high_price': Decimal('247.6100'), 'low_price': Decimal('247.4650'), 'number_of_trades': None, 'volume': 155290, 'volume_weighted_average': None, 'time': datetime.datetime(2024, 12, 10, 18, 35, tzinfo=<UTC>)}\n",
      "{'open_price': Decimal('247.4050'), 'close_price': Decimal('247.4950'), 'high_price': Decimal('247.5002'), 'low_price': Decimal('247.3500'), 'number_of_trades': None, 'volume': 227175, 'volume_weighted_average': None, 'time': datetime.datetime(2024, 12, 10, 18, 30, tzinfo=<UTC>)}\n",
      "{'open_price': Decimal('247.2600'), 'close_price': Decimal('247.4066'), 'high_price': Decimal('247.4784'), 'low_price': Decimal('247.1900'), 'number_of_trades': None, 'volume': 335389, 'volume_weighted_average': None, 'time': datetime.datetime(2024, 12, 10, 18, 25, tzinfo=<UTC>)}\n",
      "{'open_price': Decimal('247.1500'), 'close_price': Decimal('247.2600'), 'high_price': Decimal('247.3000'), 'low_price': Decimal('247.0772'), 'number_of_trades': None, 'volume': 214315, 'volume_weighted_average': None, 'time': datetime.datetime(2024, 12, 10, 18, 20, tzinfo=<UTC>)}\n",
      "{'open_price': Decimal('246.7700'), 'close_price': Decimal('247.1600'), 'high_price': Decimal('247.2000'), 'low_price': Decimal('246.7700'), 'number_of_trades': None, 'volume': 229490, 'volume_weighted_average': None, 'time': datetime.datetime(2024, 12, 10, 18, 15, tzinfo=<UTC>)}\n",
      "{'open_price': Decimal('246.7700'), 'close_price': Decimal('246.7750'), 'high_price': Decimal('246.9300'), 'low_price': Decimal('246.7200'), 'number_of_trades': None, 'volume': 181763, 'volume_weighted_average': None, 'time': datetime.datetime(2024, 12, 10, 18, 10, tzinfo=<UTC>)}\n",
      "{'open_price': Decimal('246.9400'), 'close_price': Decimal('246.7678'), 'high_price': Decimal('247.0300'), 'low_price': Decimal('246.7550'), 'number_of_trades': None, 'volume': 139987, 'volume_weighted_average': None, 'time': datetime.datetime(2024, 12, 10, 18, 5, tzinfo=<UTC>)}\n",
      "{'open_price': Decimal('246.8513'), 'close_price': Decimal('246.9400'), 'high_price': Decimal('247.0000'), 'low_price': Decimal('246.7300'), 'number_of_trades': None, 'volume': 140414, 'volume_weighted_average': None, 'time': datetime.datetime(2024, 12, 10, 18, 0, tzinfo=<UTC>)}\n",
      "{'open_price': Decimal('246.8850'), 'close_price': Decimal('246.8500'), 'high_price': Decimal('246.9800'), 'low_price': Decimal('246.7700'), 'number_of_trades': None, 'volume': 160315, 'volume_weighted_average': None, 'time': datetime.datetime(2024, 12, 10, 17, 55, tzinfo=<UTC>)}\n",
      "{'open_price': Decimal('247.1000'), 'close_price': Decimal('246.8821'), 'high_price': Decimal('247.1050'), 'low_price': Decimal('246.8821'), 'number_of_trades': None, 'volume': 136477, 'volume_weighted_average': None, 'time': datetime.datetime(2024, 12, 10, 17, 50, tzinfo=<UTC>)}\n",
      "{'open_price': Decimal('247.2000'), 'close_price': Decimal('247.1082'), 'high_price': Decimal('247.2899'), 'low_price': Decimal('247.0728'), 'number_of_trades': None, 'volume': 153909, 'volume_weighted_average': None, 'time': datetime.datetime(2024, 12, 10, 17, 45, tzinfo=<UTC>)}\n",
      "{'open_price': Decimal('247.0750'), 'close_price': Decimal('247.1775'), 'high_price': Decimal('247.1900'), 'low_price': Decimal('246.9700'), 'number_of_trades': None, 'volume': 133953, 'volume_weighted_average': None, 'time': datetime.datetime(2024, 12, 10, 17, 40, tzinfo=<UTC>)}\n",
      "{'open_price': Decimal('247.3100'), 'close_price': Decimal('247.0701'), 'high_price': Decimal('247.3150'), 'low_price': Decimal('247.0300'), 'number_of_trades': None, 'volume': 156347, 'volume_weighted_average': None, 'time': datetime.datetime(2024, 12, 10, 17, 35, tzinfo=<UTC>)}\n",
      "{'open_price': Decimal('247.0600'), 'close_price': Decimal('247.3150'), 'high_price': Decimal('247.3200'), 'low_price': Decimal('247.0301'), 'number_of_trades': None, 'volume': 177948, 'volume_weighted_average': None, 'time': datetime.datetime(2024, 12, 10, 17, 30, tzinfo=<UTC>)}\n",
      "{'open_price': Decimal('247.1100'), 'close_price': Decimal('247.0700'), 'high_price': Decimal('247.1800'), 'low_price': Decimal('246.9900'), 'number_of_trades': None, 'volume': 179562, 'volume_weighted_average': None, 'time': datetime.datetime(2024, 12, 10, 17, 25, tzinfo=<UTC>)}\n",
      "{'open_price': Decimal('246.8800'), 'close_price': Decimal('247.1150'), 'high_price': Decimal('247.1500'), 'low_price': Decimal('246.8100'), 'number_of_trades': None, 'volume': 355173, 'volume_weighted_average': None, 'time': datetime.datetime(2024, 12, 10, 17, 20, tzinfo=<UTC>)}\n",
      "{'open_price': Decimal('246.6400'), 'close_price': Decimal('246.8600'), 'high_price': Decimal('246.8700'), 'low_price': Decimal('246.5900'), 'number_of_trades': None, 'volume': 190152, 'volume_weighted_average': None, 'time': datetime.datetime(2024, 12, 10, 17, 15, tzinfo=<UTC>)}\n",
      "{'open_price': Decimal('246.7700'), 'close_price': Decimal('246.6207'), 'high_price': Decimal('246.8235'), 'low_price': Decimal('246.6100'), 'number_of_trades': None, 'volume': 128009, 'volume_weighted_average': None, 'time': datetime.datetime(2024, 12, 10, 17, 10, tzinfo=<UTC>)}\n",
      "{'open_price': Decimal('246.8300'), 'close_price': Decimal('246.7701'), 'high_price': Decimal('246.9100'), 'low_price': Decimal('246.7701'), 'number_of_trades': None, 'volume': 259086, 'volume_weighted_average': None, 'time': datetime.datetime(2024, 12, 10, 17, 5, tzinfo=<UTC>)}\n",
      "{'open_price': Decimal('246.4100'), 'close_price': Decimal('246.8500'), 'high_price': Decimal('246.8599'), 'low_price': Decimal('246.4000'), 'number_of_trades': None, 'volume': 214104, 'volume_weighted_average': None, 'time': datetime.datetime(2024, 12, 10, 17, 0, tzinfo=<UTC>)}\n",
      "{'open_price': Decimal('246.2700'), 'close_price': Decimal('246.4000'), 'high_price': Decimal('246.4700'), 'low_price': Decimal('246.2000'), 'number_of_trades': None, 'volume': 147573, 'volume_weighted_average': None, 'time': datetime.datetime(2024, 12, 10, 16, 55, tzinfo=<UTC>)}\n",
      "{'open_price': Decimal('246.3900'), 'close_price': Decimal('246.2600'), 'high_price': Decimal('246.4900'), 'low_price': Decimal('246.2600'), 'number_of_trades': None, 'volume': 141732, 'volume_weighted_average': None, 'time': datetime.datetime(2024, 12, 10, 16, 50, tzinfo=<UTC>)}\n",
      "{'open_price': Decimal('246.3700'), 'close_price': Decimal('246.3850'), 'high_price': Decimal('246.5400'), 'low_price': Decimal('246.2900'), 'number_of_trades': None, 'volume': 243061, 'volume_weighted_average': None, 'time': datetime.datetime(2024, 12, 10, 16, 45, tzinfo=<UTC>)}\n",
      "{'open_price': Decimal('246.3900'), 'close_price': Decimal('246.3800'), 'high_price': Decimal('246.4500'), 'low_price': Decimal('246.2200'), 'number_of_trades': None, 'volume': 216662, 'volume_weighted_average': None, 'time': datetime.datetime(2024, 12, 10, 16, 40, tzinfo=<UTC>)}\n"
     ]
    }
   ],
   "source": [
    "for timestamp_str in results.keys():\n",
    "    new_data = transform_alpha_vantage_result(timestamp_str, results.get(timestamp_str))\n",
    "    print(new_data)"
   ]
  },
  {
   "cell_type": "code",
   "execution_count": null,
   "id": "d1099c14-bb48-4905-bf99-b6733a93056f",
   "metadata": {},
   "outputs": [],
   "source": []
  }
 ],
 "metadata": {
  "kernelspec": {
   "display_name": "Python 3 (ipykernel)",
   "language": "python",
   "name": "python3"
  },
  "language_info": {
   "codemirror_mode": {
    "name": "ipython",
    "version": 3
   },
   "file_extension": ".py",
   "mimetype": "text/x-python",
   "name": "python",
   "nbconvert_exporter": "python",
   "pygments_lexer": "ipython3",
   "version": "3.10.15"
  }
 },
 "nbformat": 4,
 "nbformat_minor": 5
}
