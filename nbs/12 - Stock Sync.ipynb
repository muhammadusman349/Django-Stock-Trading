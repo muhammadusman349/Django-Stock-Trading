{
 "cells": [
  {
   "cell_type": "code",
   "execution_count": 1,
   "id": "f111bfb2-33f1-422b-b1ff-18fab1f65335",
   "metadata": {},
   "outputs": [],
   "source": [
    "import setup\n",
    "setup.init_django()"
   ]
  },
  {
   "cell_type": "code",
   "execution_count": 2,
   "id": "9d5414a0-b883-44bd-ae5a-ea8b2b56181c",
   "metadata": {},
   "outputs": [],
   "source": [
    "from market.models import *"
   ]
  },
  {
   "cell_type": "code",
   "execution_count": 3,
   "id": "d3a603bb-2a55-4ea7-b9cc-7f467a169f5e",
   "metadata": {},
   "outputs": [
    {
     "data": {
      "text/plain": [
       "2"
      ]
     },
     "execution_count": 3,
     "metadata": {},
     "output_type": "execute_result"
    }
   ],
   "source": [
    "qs = Company.objects.filter(active=True)\n",
    "qs.count()"
   ]
  },
  {
   "cell_type": "code",
   "execution_count": 4,
   "id": "a5e9d610-e901-4f71-b2d5-847762f291b0",
   "metadata": {},
   "outputs": [],
   "source": [
    "obj, created = Company.objects.get_or_create(name='Meta', ticker='META')\n",
    "obj.save()"
   ]
  },
  {
   "cell_type": "code",
   "execution_count": 5,
   "id": "dbf3e666-25af-4df9-950d-65ad9cbe718a",
   "metadata": {},
   "outputs": [],
   "source": [
    "for company in qs:\n",
    "    company.save()"
   ]
  },
  {
   "cell_type": "code",
   "execution_count": 6,
   "id": "f7c2d5e7-b064-4087-9b7f-3b6c39822013",
   "metadata": {},
   "outputs": [
    {
     "data": {
      "text/plain": [
       "50001"
      ]
     },
     "execution_count": 6,
     "metadata": {},
     "output_type": "execute_result"
    }
   ],
   "source": [
    "stocks = StockQuote.objects.all()\n",
    "stocks.count()"
   ]
  },
  {
   "cell_type": "code",
   "execution_count": 7,
   "id": "b7a88126-5a5f-4b8f-9126-5cbd3f1ca82e",
   "metadata": {},
   "outputs": [],
   "source": [
    "start_from_strach = False\n",
    "if start_from_strach:\n",
    "    stocks.delete()"
   ]
  },
  {
   "cell_type": "code",
   "execution_count": 8,
   "id": "0b54a389-e3c7-4ace-8de4-54a3fb401af6",
   "metadata": {},
   "outputs": [],
   "source": [
    "from market import tasks as market_tasks"
   ]
  },
  {
   "cell_type": "code",
   "execution_count": 9,
   "id": "15a4fc5d-bfe3-4175-96a7-89106e76592f",
   "metadata": {},
   "outputs": [
    {
     "data": {
      "text/plain": [
       "<AsyncResult: a520c072-75eb-4f57-a912-b5f1e958cc41>"
      ]
     },
     "execution_count": 9,
     "metadata": {},
     "output_type": "execute_result"
    }
   ],
   "source": [
    "market_tasks.sync_stock_data.delay()"
   ]
  },
  {
   "cell_type": "code",
   "execution_count": 10,
   "id": "07be74fd-0842-416b-8064-6d578aff520a",
   "metadata": {},
   "outputs": [
    {
     "data": {
      "text/plain": [
       "50001"
      ]
     },
     "execution_count": 10,
     "metadata": {},
     "output_type": "execute_result"
    }
   ],
   "source": [
    "StockQuote.objects.all().count()"
   ]
  },
  {
   "cell_type": "code",
   "execution_count": null,
   "id": "15c77f6b-13e6-41d7-9ba2-3728278c13cd",
   "metadata": {},
   "outputs": [],
   "source": []
  }
 ],
 "metadata": {
  "kernelspec": {
   "display_name": "Python 3 (ipykernel)",
   "language": "python",
   "name": "python3"
  },
  "language_info": {
   "codemirror_mode": {
    "name": "ipython",
    "version": 3
   },
   "file_extension": ".py",
   "mimetype": "text/x-python",
   "name": "python",
   "nbconvert_exporter": "python",
   "pygments_lexer": "ipython3",
   "version": "3.10.15"
  }
 },
 "nbformat": 4,
 "nbformat_minor": 5
}
