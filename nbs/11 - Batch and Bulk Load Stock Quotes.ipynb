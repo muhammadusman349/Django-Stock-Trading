{
 "cells": [
  {
   "cell_type": "code",
   "execution_count": 1,
   "id": "ce6069db-2f8f-45e0-af67-5e6a1ff86a61",
   "metadata": {},
   "outputs": [],
   "source": [
    "import setup\n",
    "setup.init_django()"
   ]
  },
  {
   "cell_type": "code",
   "execution_count": 2,
   "id": "76312c83-7387-45c1-a496-3139c3a921dc",
   "metadata": {},
   "outputs": [],
   "source": [
    "import helpers.clients as helper_clients"
   ]
  },
  {
   "cell_type": "code",
   "execution_count": 3,
   "id": "70b35cf0-cc5d-44fc-8af4-e301d685bb77",
   "metadata": {},
   "outputs": [],
   "source": [
    "company_name = \"Google\"\n",
    "company_ticker = \"GOOG\"\n",
    "multiplier = 1\n",
    "from_date = \"2023-01-09\"\n",
    "to_date = \"2023-05-09\""
   ]
  },
  {
   "cell_type": "code",
   "execution_count": 4,
   "id": "7c307798-8040-4523-8ddc-f51e3a64ef61",
   "metadata": {},
   "outputs": [],
   "source": [
    "client = helper_clients.PolygonAPIClient(\n",
    "    ticker=company_ticker,\n",
    "    multiplier=multiplier,\n",
    "    from_date=from_date,\n",
    "    to_date=to_date\n",
    ")\n",
    "dataset = client.get_stock_data()"
   ]
  },
  {
   "cell_type": "code",
   "execution_count": 5,
   "id": "759f894d-4202-4c81-a9b2-ea3b3486c88e",
   "metadata": {},
   "outputs": [
    {
     "data": {
      "text/plain": [
       "50000"
      ]
     },
     "execution_count": 5,
     "metadata": {},
     "output_type": "execute_result"
    }
   ],
   "source": [
    "len(dataset)"
   ]
  },
  {
   "cell_type": "code",
   "execution_count": 6,
   "id": "511cdc1a-379a-4d05-8009-3f6de210bdb5",
   "metadata": {},
   "outputs": [
    {
     "data": {
      "text/plain": [
       "{'open_price': 88.08,\n",
       " 'close_price': 88.16,\n",
       " 'high_price': 88.17,\n",
       " 'low_price': 88.08,\n",
       " 'number_of_trades': 55,\n",
       " 'volume': 1684,\n",
       " 'volume_weighted_average': 88.1217,\n",
       " 'raw_timestamp': 1673254800000,\n",
       " 'time': datetime.datetime(2023, 1, 9, 9, 0, tzinfo=<UTC>)}"
      ]
     },
     "execution_count": 6,
     "metadata": {},
     "output_type": "execute_result"
    }
   ],
   "source": [
    "new_stock_data = dataset[0]\n",
    "new_stock_data"
   ]
  },
  {
   "cell_type": "code",
   "execution_count": 7,
   "id": "8ab0887c-96ef-439a-9f17-b745d808b617",
   "metadata": {},
   "outputs": [],
   "source": [
    "from market.models import Company, StockQuote"
   ]
  },
  {
   "cell_type": "code",
   "execution_count": 8,
   "id": "9b073815-de6e-4a71-a3fe-47dc11d61f20",
   "metadata": {},
   "outputs": [],
   "source": [
    "company_obj, created = Company.objects.get_or_create(name=company_name, ticker=company_ticker)"
   ]
  },
  {
   "cell_type": "code",
   "execution_count": 9,
   "id": "978324a4-1988-4bb4-84eb-e030db22fa85",
   "metadata": {},
   "outputs": [
    {
     "data": {
      "text/plain": [
       "<Company: Company object (1)>"
      ]
     },
     "execution_count": 9,
     "metadata": {},
     "output_type": "execute_result"
    }
   ],
   "source": [
    "company_obj"
   ]
  },
  {
   "cell_type": "code",
   "execution_count": 10,
   "id": "35321106-9dee-42c6-a5b9-429b6dbf839c",
   "metadata": {},
   "outputs": [],
   "source": [
    "# new_quotes = []\n",
    "# for data in dataset:\n",
    "#     new_quotes.append(StockQuote(company_obj, **data))"
   ]
  },
  {
   "cell_type": "code",
   "execution_count": 11,
   "id": "bfbad6db-3177-4f90-a211-0e5bafd4f19b",
   "metadata": {},
   "outputs": [],
   "source": [
    "# new_quotes"
   ]
  },
  {
   "cell_type": "code",
   "execution_count": null,
   "id": "f3da0ec3-3da4-42b8-a05f-f166145608bc",
   "metadata": {},
   "outputs": [],
   "source": [
    "# StockQuote.objects.bulk_create(new_quotes, ignore_conflicts=True)"
   ]
  },
  {
   "cell_type": "code",
   "execution_count": 22,
   "id": "334d6cb7-35f9-4765-8fa5-d9609f95de36",
   "metadata": {},
   "outputs": [
    {
     "data": {
      "text/plain": [
       "<QuerySet [<StockQuote: StockQuote object (1)>, <StockQuote: StockQuote object (2)>, <StockQuote: StockQuote object (3)>, <StockQuote: StockQuote object (4)>, <StockQuote: StockQuote object (5)>, <StockQuote: StockQuote object (6)>, <StockQuote: StockQuote object (7)>, <StockQuote: StockQuote object (8)>, <StockQuote: StockQuote object (9)>, <StockQuote: StockQuote object (10)>, <StockQuote: StockQuote object (11)>, <StockQuote: StockQuote object (12)>, <StockQuote: StockQuote object (13)>, <StockQuote: StockQuote object (14)>, <StockQuote: StockQuote object (15)>, <StockQuote: StockQuote object (16)>, <StockQuote: StockQuote object (17)>, <StockQuote: StockQuote object (18)>, <StockQuote: StockQuote object (19)>, <StockQuote: StockQuote object (20)>, '...(remaining elements truncated)...']>"
      ]
     },
     "execution_count": 22,
     "metadata": {},
     "output_type": "execute_result"
    }
   ],
   "source": [
    "StockQuote.objects.all()"
   ]
  },
  {
   "cell_type": "code",
   "execution_count": 23,
   "id": "934b8ac7-535c-4a45-8616-7871fdd3b04b",
   "metadata": {},
   "outputs": [],
   "source": [
    "batch_size = 1000\n",
    "for i in range(0, len(dataset), batch_size):\n",
    "    batch_chunk = dataset[i:i+batch_size]\n",
    "    chunked_quotes = []\n",
    "    for data in batch_chunk:\n",
    "        chunked_quotes.append(\n",
    "            StockQuote(company=company_obj, **data)\n",
    "        )\n",
    "    StockQuote.objects.bulk_create(chunked_quotes, ignore_conflicts=True)"
   ]
  },
  {
   "cell_type": "code",
   "execution_count": 24,
   "id": "15a13b31-15c8-4db7-ae15-f49fbb335e9e",
   "metadata": {},
   "outputs": [
    {
     "data": {
      "text/plain": [
       "50001"
      ]
     },
     "execution_count": 24,
     "metadata": {},
     "output_type": "execute_result"
    }
   ],
   "source": [
    "StockQuote.objects.all().count()"
   ]
  },
  {
   "cell_type": "code",
   "execution_count": null,
   "id": "48c7bf34-4d88-41bf-9c20-25374c31815a",
   "metadata": {},
   "outputs": [],
   "source": []
  }
 ],
 "metadata": {
  "kernelspec": {
   "display_name": "Python 3 (ipykernel)",
   "language": "python",
   "name": "python3"
  },
  "language_info": {
   "codemirror_mode": {
    "name": "ipython",
    "version": 3
   },
   "file_extension": ".py",
   "mimetype": "text/x-python",
   "name": "python",
   "nbconvert_exporter": "python",
   "pygments_lexer": "ipython3",
   "version": "3.10.15"
  }
 },
 "nbformat": 4,
 "nbformat_minor": 5
}
